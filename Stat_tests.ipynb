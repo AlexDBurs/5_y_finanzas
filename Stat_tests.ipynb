{
 "cells": [
  {
   "cell_type": "code",
   "execution_count": 10,
   "source": [
    "import scipy.stats as stats\r\n",
    "import statsmodels.tsa.stattools as stattools\r\n",
    "import numpy as np"
   ],
   "outputs": [],
   "metadata": {}
  },
  {
   "cell_type": "code",
   "execution_count": 8,
   "source": [
    "rng = np.random.default_rng()\r\n",
    "test_data = rng.standard_normal(100)\r\n",
    "test_data2 = rng.standard_normal(100)"
   ],
   "outputs": [],
   "metadata": {}
  },
  {
   "cell_type": "code",
   "execution_count": 4,
   "source": [
    "###Normality\r\n",
    "##H0: is Gaussian distribution\r\n",
    "\r\n",
    "#Shapiro-Wilk\r\n",
    "stats.shapiro(test_data)\r\n",
    "\r\n",
    "#D’Agostino’s K^2\r\n",
    "stats.normaltest(test_data)\r\n",
    "\r\n",
    "#Anderson-Darling Test\r\n",
    "stats.anderson(test_data)"
   ],
   "outputs": [
    {
     "output_type": "execute_result",
     "data": {
      "text/plain": [
       "ShapiroResult(statistic=0.9907518029212952, pvalue=0.7252190709114075)"
      ]
     },
     "metadata": {},
     "execution_count": 4
    }
   ],
   "metadata": {}
  },
  {
   "cell_type": "code",
   "execution_count": 9,
   "source": [
    "###Correlation\r\n",
    "##H0: Rho = 0\r\n",
    "\r\n",
    "#Pearson’s Correlation Coefficient\r\n",
    "#Linear Relationship\r\n",
    "stats.pearsonr(test_data,test_data2)\r\n",
    "\r\n",
    "#Spearman’s Rank Correlation\r\n",
    "#Monotonic Relationship\r\n",
    "stats.spearmanr(test_data,test_data2)\r\n",
    "\r\n",
    "#Kendall’s Rank Correlation\r\n",
    "#Monotonic Relationship\r\n",
    "stats.kendalltau(test_data,test_data2)\r\n",
    "\r\n",
    "#Chi-Squared Test\r\n",
    "#Relationship\r\n",
    "stats.chi2_contingency(test_data)"
   ],
   "outputs": [
    {
     "output_type": "execute_result",
     "data": {
      "text/plain": [
       "(-0.017440013387237004, 0.8632641237917904)"
      ]
     },
     "metadata": {},
     "execution_count": 9
    }
   ],
   "metadata": {}
  },
  {
   "cell_type": "code",
   "execution_count": 12,
   "source": [
    "###Stationarity (time series)\r\n",
    "\r\n",
    "##ADF unit root test\r\n",
    "#H0: Unit root is present\r\n",
    "stattools.adfuller(test_data)\r\n",
    "\r\n",
    "##KPSS\r\n",
    "#H0: Unit root is not present/ts is not trend stationary\r\n",
    "stattools.kpss(test_data)"
   ],
   "outputs": [
    {
     "output_type": "stream",
     "name": "stdout",
     "text": [
      "(-10.146133135536587, 8.176913790883896e-18, 0, 99, {'1%': -3.498198082189098, '5%': -2.891208211860468, '10%': -2.5825959973472097}, 251.18733698334586)\n"
     ]
    }
   ],
   "metadata": {}
  },
  {
   "cell_type": "code",
   "execution_count": null,
   "source": [
    "###Parametric Hypotesis Tests\r\n",
    "\r\n",
    "#t-student\r\n",
    "stats.ttest_ind(test_data)\r\n",
    "\r\n",
    "#ANOVA\r\n",
    "stats.f_oneway(test_data,test_data2)"
   ],
   "outputs": [],
   "metadata": {}
  },
  {
   "cell_type": "code",
   "execution_count": null,
   "source": [
    "###Homoskedasticity\r\n",
    "\r\n",
    "#White test"
   ],
   "outputs": [],
   "metadata": {}
  }
 ],
 "metadata": {
  "orig_nbformat": 4,
  "language_info": {
   "name": "python",
   "version": "3.9.7",
   "mimetype": "text/x-python",
   "codemirror_mode": {
    "name": "ipython",
    "version": 3
   },
   "pygments_lexer": "ipython3",
   "nbconvert_exporter": "python",
   "file_extension": ".py"
  },
  "kernelspec": {
   "name": "python3",
   "display_name": "Python 3.9.7 64-bit ('minimal_ds': conda)"
  },
  "interpreter": {
   "hash": "c455af33f0cacf8fc4af65f5da8a42c23a9fbe0fb854b2031828eff259ad2e53"
  }
 },
 "nbformat": 4,
 "nbformat_minor": 2
}