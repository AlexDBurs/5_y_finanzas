{
 "cells": [
  {
   "cell_type": "code",
   "execution_count": null,
   "source": [
    "import pandas as pd"
   ],
   "outputs": [],
   "metadata": {}
  }
 ],
 "metadata": {
  "orig_nbformat": 4,
  "language_info": {
   "name": "python",
   "version": "3.9.4"
  },
  "kernelspec": {
   "name": "python3",
   "display_name": "Python 3.9.4 64-bit ('minimal_ds': conda)"
  },
  "interpreter": {
   "hash": "c455af33f0cacf8fc4af65f5da8a42c23a9fbe0fb854b2031828eff259ad2e53"
  }
 },
 "nbformat": 4,
 "nbformat_minor": 2
}