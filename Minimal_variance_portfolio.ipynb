{
 "cells": [
  {
   "cell_type": "code",
   "execution_count": 3,
   "source": [
    "import pandas as pd\r\n",
    "import numpy as np\r\n",
    "from scipy.optimize import minimize\r\n",
    "import yfinance as yf #stock api\r\n"
   ],
   "outputs": [],
   "metadata": {}
  },
  {
   "cell_type": "code",
   "execution_count": 4,
   "source": [
    "#Tickers\r\n",
    "start = '2020-01-02'\r\n",
    "end = '2021-07-02'\r\n",
    "\r\n",
    "ticker_adjclose = yf.download('MSFT, CAT, AAPL, AMD', period = \"ytd\", start = start, group_by = 'column',auto_adjust=True, threads = True)['Close']"
   ],
   "outputs": [
    {
     "output_type": "stream",
     "name": "stdout",
     "text": [
      "[*********************100%***********************]  4 of 4 completed\n"
     ]
    }
   ],
   "metadata": {}
  },
  {
   "cell_type": "code",
   "execution_count": null,
   "source": [
    "log_returns = np.log(1+ticker_adjclose.pct_change().dropna())\r\n",
    "cov = log_returns.cov() #Covariance matrix\r\n",
    "weight = np.full((len(cov),1), 1/len(cov)) #Start from equal weight portfolio\r\n",
    "bounds = ((0,1),)*len(cov)"
   ],
   "outputs": [],
   "metadata": {}
  },
  {
   "cell_type": "code",
   "execution_count": 34,
   "source": [
    "def efficient_portfolio(ticker_adjclose, log_expected_return = 0, short_position = False):\r\n",
    "    #Data\r\n",
    "    log_returns = np.log(1+ticker_adjclose.pct_change().dropna())\r\n",
    "    cov = log_returns.cov() #Covariance matrix\r\n",
    "    weight = np.full((len(cov),1), 1/len(cov)) #Start from equal weight portfolio\r\n",
    "    bounds = ((0,1),)*len(cov)\r\n",
    "\r\n",
    "    #Function and constrains\r\n",
    "    def risk_func(weight):\r\n",
    "        return np.dot(weight.T, np.dot(cov,weight))\r\n",
    "    \r\n",
    "    def Sum_to_one(weight):\r\n",
    "        return np.sum(weight)-1\r\n",
    "\r\n",
    "    def Min_return(weight):\r\n",
    "        return log_expected_return - np.sum(log_returns.mean() * weight)\r\n",
    "    \r\n",
    "    constraints = ({'type': 'eq', 'fun': Sum_to_one},{'type': 'eq', 'fun': Min_return})\r\n",
    "\r\n",
    "    if log_expected_return > 0 :\r\n",
    "        solver_e = minimize(risk_func, weight, method = 'SLSQP', bounds = bounds*short_position, constraints = constraints)\r\n",
    "        weight = solver_e.x\r\n",
    "    else:\r\n",
    "        solver_v = minimize(risk_func, weight, method = 'SLSQP', bounds = bounds*short_position, constraints = constraints[0])\r\n",
    "        weight = solver_v.x\r\n",
    "    \r\n",
    "    return weight"
   ],
   "outputs": [],
   "metadata": {}
  },
  {
   "cell_type": "code",
   "execution_count": 39,
   "source": [
    "print(efficient_portfolio(ticker_adjclose, 0.001, True))"
   ],
   "outputs": [
    {
     "output_type": "stream",
     "name": "stdout",
     "text": [
      "[0.1655059  0.06925476 0.54716828 0.21807107]\n"
     ]
    }
   ],
   "metadata": {}
  },
  {
   "cell_type": "code",
   "execution_count": 40,
   "source": [
    "#wararnty\r\n",
    "\r\n",
    "def warranty_fun(weights):\r\n",
    "    w_weights = weights / sum(abs(weights))\r\n",
    "    warranty = sum([neg for neg in w_weights if neg < 0]) * -2\r\n",
    "    return w_weights, warranty"
   ],
   "outputs": [],
   "metadata": {}
  },
  {
   "cell_type": "code",
   "execution_count": 73,
   "source": [
    "def efficient_portfolio_rf(ticker_adjclose, log_risk_free_return, log_expected_return = 0, log_expected_volatility = 0, warranty = False):\r\n",
    "    log_returns = np.log(1+ticker_adjclose.pct_change().dropna())\r\n",
    "    cov = log_returns.cov() #Covariance matrix\r\n",
    "    cov_inverse = np.linalg.inv(cov)\r\n",
    "    ret_vector = log_returns.mean() - log_risk_free_return\r\n",
    "    portfolio_r_weight = 1\r\n",
    "\r\n",
    "    weights_z = np.dot(cov_inverse,ret_vector)\r\n",
    "    weights = weights_z / (sum(weights_z))\r\n",
    "\r\n",
    "    if warranty == True:\r\n",
    "        weights, warranty_w = warranty_fun(weights)\r\n",
    "    else:\r\n",
    "        warranty_w = 0\r\n",
    "    \r\n",
    "    portfolio_mean = np.dot(log_returns.mean().T,weights) + warranty_w * log_risk_free_return\r\n",
    "    portfolio_volatility = np.sqrt(np.dot(weights.T,np.dot(cov, weights)))\r\n",
    "\r\n",
    "    if log_expected_return > 0:\r\n",
    "        portfolio_r_weight = (log_expected_return - log_risk_free_return) / (portfolio_mean - log_risk_free_return)\r\n",
    "    elif log_expected_volatility > 0:\r\n",
    "        portfolio_r_weight = log_expected_volatility / portfolio_volatility\r\n",
    "    \r\n",
    "    #portfolio_ret = portfolio_mean * portfolio_r_weight + (1 - portfolio_r_weight) * log_risk_free_return\r\n",
    "    #portfolio_vol = np.sqrt(np.dot(weights.T,np.dot(cov, weights)))\r\n",
    "\r\n",
    "    weights = weights * portfolio_r_weight \r\n",
    "\r\n",
    "    #weights = np.append(weights, (warranty_w, portfolio_ret,portfolio_vol))\r\n",
    "\r\n",
    "    return weights, portfolio_r_weight, warranty_w\r\n",
    "\r\n"
   ],
   "outputs": [],
   "metadata": {}
  },
  {
   "cell_type": "code",
   "execution_count": 74,
   "source": [
    "efficient_portfolio_rf(ticker_adjclose, 0.0006, 0.001, warranty = True)"
   ],
   "outputs": [
    {
     "output_type": "execute_result",
     "data": {
      "text/plain": [
       "(array([ 0.22651365,  0.1156744 , -0.17108729,  0.14775333]),\n",
       " 0.6610286704725519,\n",
       " 0.5176395304225141)"
      ]
     },
     "metadata": {},
     "execution_count": 74
    }
   ],
   "metadata": {}
  },
  {
   "cell_type": "code",
   "execution_count": null,
   "source": [
    "#Solving by hand\r\n",
    "ret_mean = log_returns.mean()\r\n",
    "ret_exp = 0.001\r\n",
    "\r\n",
    "def variance_minimizer(ret_exp, log_returns, cov):\r\n",
    "    ret_mean = log_returns.mean()\r\n",
    "    w_con = np.ones(len(cov)) #weight constraints\r\n",
    "    cov_inverse = np.linalg.inv(cov) #Inverse matrix\r\n",
    "\r\n",
    "    #Matrix multiplications (so the code looks cleaner)\r\n",
    "    cov_cons_mean = np.dot(ret_mean.T, np.dot(cov_inverse, ret_mean))\r\n",
    "    cov_cons_weight = np.dot(w_con.T, np.dot(cov_inverse, w_con))\r\n",
    "    cov_cons_wm = np.dot(ret_mean.T, np.dot(cov_inverse, w_con))\r\n",
    "\r\n",
    "    return (1/(cov_cons_mean * cov_cons_weight - cov_cons_wm**2)) * np.dot(cov_inverse,((cov_cons_weight*ret_exp - cov_cons_wm) * ret_mean + (cov_cons_mean - cov_cons_wm*ret_exp) * w_con))\r\n",
    "\r\n",
    "variance_minimizer(ret_exp, ret_mean, cov)"
   ],
   "outputs": [],
   "metadata": {}
  },
  {
   "cell_type": "code",
   "execution_count": null,
   "source": [
    "variance_minimizer(ret_exp, ret_mean, cov)"
   ],
   "outputs": [
    {
     "output_type": "execute_result",
     "data": {
      "text/plain": [
       "array([ 3.76389943,  2.21654257, -5.58202935,  0.60158735])"
      ]
     },
     "metadata": {},
     "execution_count": 9
    }
   ],
   "metadata": {}
  },
  {
   "cell_type": "code",
   "execution_count": null,
   "source": [],
   "outputs": [],
   "metadata": {}
  }
 ],
 "metadata": {
  "orig_nbformat": 4,
  "language_info": {
   "name": "python",
   "version": "3.8.10",
   "mimetype": "text/x-python",
   "codemirror_mode": {
    "name": "ipython",
    "version": 3
   },
   "pygments_lexer": "ipython3",
   "nbconvert_exporter": "python",
   "file_extension": ".py"
  },
  "kernelspec": {
   "name": "python3",
   "display_name": "Python 3.8.10 64-bit ('minimal_ds2': conda)"
  },
  "interpreter": {
   "hash": "6b9cc3abe755365796f5be99ce99b25d3661cd01ce8df8944dd911075a0b9dc1"
  }
 },
 "nbformat": 4,
 "nbformat_minor": 2
}