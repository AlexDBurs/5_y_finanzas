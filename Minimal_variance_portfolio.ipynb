{
 "cells": [
  {
   "cell_type": "code",
   "execution_count": 7,
   "source": [
    "import pandas as pd\r\n",
    "import numpy as np\r\n",
    "from scipy.optimize import minimize\r\n",
    "import yfinance as yf #stock api\r\n"
   ],
   "outputs": [],
   "metadata": {}
  },
  {
   "cell_type": "code",
   "execution_count": 46,
   "source": [
    "#Tickers\r\n",
    "start = '2000-09-02'\r\n",
    "end = '2021-07-02'\r\n",
    "\r\n",
    "ticker_adjclose = yf.download('MSFT, CAT, AAPL, WYNN, FCEL, SPRT', period = \"ytd\", start = start, group_by = 'column',auto_adjust=True, threads = True)['Close']"
   ],
   "outputs": [
    {
     "output_type": "stream",
     "name": "stdout",
     "text": [
      "[*********************100%***********************]  6 of 6 completed\n"
     ]
    }
   ],
   "metadata": {}
  },
  {
   "cell_type": "code",
   "execution_count": 47,
   "source": [
    "#Given data\r\n",
    "exp_ret = 0.02\r\n",
    "log_returns = np.log(1+ticker_adjclose.pct_change().dropna())\r\n",
    "cov = log_returns.cov()\r\n",
    "weight = np.full((len(cov),1), 1/len(cov)) #Start from equal weight portfolio\r\n",
    "bounds = ((0,1),)*len(cov)"
   ],
   "outputs": [],
   "metadata": {}
  },
  {
   "cell_type": "code",
   "execution_count": 48,
   "source": [
    "#Function and constrains\r\n",
    "def risk_func(weight):\r\n",
    "    return np.dot(weight.T, np.dot(cov,weight))\r\n",
    "\r\n",
    "def Sum_to_one(weight):\r\n",
    "    return np.sum(weight)-1\r\n",
    "\r\n",
    "def Min_return(weight):\r\n",
    "    return exp_ret - np.sum(log_returns.mean() * weight)\r\n",
    "\r\n",
    "constraints = ({'type': 'eq', 'fun': Sum_to_one},{'type': 'eq', 'fun': Min_return})"
   ],
   "outputs": [],
   "metadata": {}
  },
  {
   "cell_type": "code",
   "execution_count": 51,
   "source": [
    "#optimizer\r\n",
    "optimizer = minimize(risk_func, weight, method = 'SLSQP', bounds = bounds, constraints = constraints)\r\n",
    "weight_optim = optimizer.x"
   ],
   "outputs": [],
   "metadata": {}
  },
  {
   "cell_type": "code",
   "execution_count": 52,
   "source": [
    "#check constraints just in case\r\n",
    "[risk_func(weight_optim), Sum_to_one(weight_optim), Min_return(weight_optim)]"
   ],
   "outputs": [
    {
     "output_type": "execute_result",
     "data": {
      "text/plain": [
       "[0.0004528583120371921, 2.2746249328520207e-12, 0.01864503633158654]"
      ]
     },
     "metadata": {},
     "execution_count": 52
    }
   ],
   "metadata": {}
  }
 ],
 "metadata": {
  "orig_nbformat": 4,
  "language_info": {
   "name": "python",
   "version": "3.8.10",
   "mimetype": "text/x-python",
   "codemirror_mode": {
    "name": "ipython",
    "version": 3
   },
   "pygments_lexer": "ipython3",
   "nbconvert_exporter": "python",
   "file_extension": ".py"
  },
  "kernelspec": {
   "name": "python3",
   "display_name": "Python 3.8.10 64-bit ('minimal_ds2': conda)"
  },
  "interpreter": {
   "hash": "6b9cc3abe755365796f5be99ce99b25d3661cd01ce8df8944dd911075a0b9dc1"
  }
 },
 "nbformat": 4,
 "nbformat_minor": 2
}