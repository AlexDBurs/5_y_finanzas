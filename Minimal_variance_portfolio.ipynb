{
 "cells": [
  {
   "cell_type": "code",
   "execution_count": 146,
   "source": [
    "import pandas as pd\r\n",
    "import numpy as np\r\n",
    "from scipy.optimize import minimize\r\n",
    "import yfinance as yf #stock api\r\n"
   ],
   "outputs": [],
   "metadata": {}
  },
  {
   "cell_type": "code",
   "execution_count": 147,
   "source": [
    "#Tickers\r\n",
    "start = '2021-01-02'\r\n",
    "end = '2021-07-02'\r\n",
    "\r\n",
    "ticker_adjclose = yf.download('MSFT, CAT, AAPL', period = \"ytd\", start = start, group_by = 'column',auto_adjust=True, threads = True)['Close']"
   ],
   "outputs": [
    {
     "output_type": "stream",
     "name": "stdout",
     "text": [
      "[*********************100%***********************]  3 of 3 completed\n"
     ]
    }
   ],
   "metadata": {}
  },
  {
   "cell_type": "code",
   "execution_count": 148,
   "source": [
    "#Given data\r\n",
    "ret_exp = 0.006 #expected return\r\n",
    "log_returns = np.log(1+ticker_adjclose.pct_change().dropna())\r\n",
    "cov = log_returns.cov() #Covariance matrix\r\n",
    "weight = np.full((len(cov),1), 1/len(cov)) #Start from equal weight portfolio\r\n",
    "bounds = ((0,1),)*len(cov)"
   ],
   "outputs": [],
   "metadata": {}
  },
  {
   "cell_type": "code",
   "execution_count": 149,
   "source": [
    "#Function and constrains\r\n",
    "def risk_func(weight):\r\n",
    "    return np.dot(weight.T, np.dot(cov,weight))\r\n",
    "\r\n",
    "def Sum_to_one(weight):\r\n",
    "    return np.sum(weight)-1\r\n",
    "\r\n",
    "def Min_return(weight):\r\n",
    "    return ret_exp - np.sum(log_returns.mean() * weight)\r\n",
    "\r\n",
    "constraints = ({'type': 'eq', 'fun': Sum_to_one},{'type': 'eq', 'fun': Min_return})"
   ],
   "outputs": [],
   "metadata": {}
  },
  {
   "cell_type": "code",
   "execution_count": 155,
   "source": [
    "#optimize function subject to constraints\r\n",
    "\r\n",
    "#min_var_solve = minimize(risk_func, weight, method = 'SLSQP', bounds = bounds, constraints = constraints[0])\r\n",
    "#optimizer_b = minimize(risk_func, weight, method = 'SLSQP', bounds = bounds, constraints = constraints)\r\n",
    "optimizer = minimize(risk_func, weight, method = 'SLSQP', constraints = constraints)\r\n",
    "weight_optim = optimizer.x\r\n",
    "weight_optim"
   ],
   "outputs": [
    {
     "output_type": "execute_result",
     "data": {
      "text/plain": [
       "array([-3.06603789, -0.41468482,  4.48072271])"
      ]
     },
     "metadata": {},
     "execution_count": 155
    }
   ],
   "metadata": {}
  },
  {
   "cell_type": "code",
   "execution_count": 151,
   "source": [
    "#check constraints just in case\r\n",
    "[risk_func(weight_optim), Sum_to_one(weight_optim), Min_return(weight_optim)]"
   ],
   "outputs": [
    {
     "output_type": "execute_result",
     "data": {
      "text/plain": [
       "[0.00015730188945266272, 1.3322676295501878e-15, 0.004077456311832066]"
      ]
     },
     "metadata": {},
     "execution_count": 151
    }
   ],
   "metadata": {}
  },
  {
   "cell_type": "code",
   "execution_count": 153,
   "source": [
    "#Solving by hand\r\n",
    "ret_mean = log_returns.mean()\r\n",
    "\r\n",
    "def variance_minimizer(ret_exp, ret_mean, cov):\r\n",
    "    w_con = np.ones(len(cov)) #weight constraints\r\n",
    "    cov_inverse = np.linalg.inv(cov) #This is what makes the code slow.\r\n",
    "\r\n",
    "    #Matrix multiplications (so the code looks cleaner)\r\n",
    "    cov_cons_mean = np.dot(ret_mean.T, np.dot(cov_inverse, ret_mean))\r\n",
    "    cov_cons_weight = np.dot(w_con.T, np.dot(cov_inverse, w_con))\r\n",
    "    cov_cons_wm = np.dot(ret_mean.T, np.dot(cov_inverse, w_con))\r\n",
    "\r\n",
    "    return (1/(cov_cons_mean * cov_cons_weight - cov_cons_wm**2)) * np.dot(cov_inverse,((cov_cons_weight*ret_exp - cov_cons_wm) * ret_mean + (cov_cons_mean - cov_cons_wm*ret_exp) * w_con))\r\n",
    "\r\n"
   ],
   "outputs": [],
   "metadata": {}
  },
  {
   "cell_type": "code",
   "execution_count": 154,
   "source": [
    "variance_minimizer(ret_exp, ret_mean, cov)"
   ],
   "outputs": [
    {
     "output_type": "execute_result",
     "data": {
      "text/plain": [
       "array([-3.06603787, -0.41468485,  4.48072271])"
      ]
     },
     "metadata": {},
     "execution_count": 154
    }
   ],
   "metadata": {}
  }
 ],
 "metadata": {
  "orig_nbformat": 4,
  "language_info": {
   "name": "python",
   "version": "3.8.10",
   "mimetype": "text/x-python",
   "codemirror_mode": {
    "name": "ipython",
    "version": 3
   },
   "pygments_lexer": "ipython3",
   "nbconvert_exporter": "python",
   "file_extension": ".py"
  },
  "kernelspec": {
   "name": "python3",
   "display_name": "Python 3.8.10 64-bit ('minimal_ds2': conda)"
  },
  "interpreter": {
   "hash": "6b9cc3abe755365796f5be99ce99b25d3661cd01ce8df8944dd911075a0b9dc1"
  }
 },
 "nbformat": 4,
 "nbformat_minor": 2
}